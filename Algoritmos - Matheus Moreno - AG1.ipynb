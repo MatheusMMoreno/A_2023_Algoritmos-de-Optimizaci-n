{
 "cells": [
  {
   "cell_type": "code",
   "execution_count": null,
   "metadata": {},
   "outputs": [],
   "source": [
    "#Actividad Guiada 1\n",
    "# Matheus Martins Moreno"
   ]
  },
  {
   "cell_type": "code",
   "execution_count": 2,
   "metadata": {},
   "outputs": [],
   "source": [
    "def torres_hanoi(N,origen,destino,pivote):\n",
    "    if N==1:\n",
    "        print(f'a. Mover bloque desde {origen} a  {destino}')\n",
    "        return\n",
    "\n",
    "    torres_hanoi(N-1,origen, pivote, destino)\n",
    "\n",
    "    print(f'b. Mover bloque desde {origen} a  {destino}')\n",
    "\n",
    "\n",
    "    torres_hanoi(N-1,pivote, destino, origen)\n"
   ]
  },
  {
   "cell_type": "code",
   "execution_count": 3,
   "metadata": {},
   "outputs": [
    {
     "name": "stdout",
     "output_type": "stream",
     "text": [
      "a. Mover bloque desde 1 a  2\n",
      "b. Mover bloque desde 1 a  3\n",
      "a. Mover bloque desde 2 a  3\n",
      "b. Mover bloque desde 1 a  2\n",
      "a. Mover bloque desde 3 a  1\n",
      "b. Mover bloque desde 3 a  2\n",
      "a. Mover bloque desde 1 a  2\n",
      "b. Mover bloque desde 1 a  3\n",
      "a. Mover bloque desde 2 a  3\n",
      "b. Mover bloque desde 2 a  1\n",
      "a. Mover bloque desde 3 a  1\n",
      "b. Mover bloque desde 2 a  3\n",
      "a. Mover bloque desde 1 a  2\n",
      "b. Mover bloque desde 1 a  3\n",
      "a. Mover bloque desde 2 a  3\n"
     ]
    }
   ],
   "source": [
    "torres_hanoi(4,1,3,2)"
   ]
  },
  {
   "cell_type": "code",
   "execution_count": 4,
   "metadata": {},
   "outputs": [],
   "source": [
    "# Devolver Cambio\n",
    "\n",
    "def cambio_moneda(CANTIDAD,SISTEMA):\n",
    "\n",
    "    print(\"SISTEMA: \")\n",
    "    print(SISTEMA)\n",
    "\n",
    "    SOLUCION = [0 for i in range(len(SISTEMA))] #crea lista de ceros (tantos la dimension de SISTEMA)\n",
    "    VALOR_ACUMULADO = 0\n",
    "\n",
    "    for i in range(len(SISTEMA)):\n",
    "        monedas = int((CANTIDAD-VALOR_ACUMULADO)/SISTEMA[i])\n",
    "        SOLUCION[i]=monedas\n",
    "        VALOR_ACUMULADO +=monedas * SISTEMA[i]\n",
    "        if VALOR_ACUMULADO == CANTIDAD: break\n",
    "\n",
    "    return SOLUCION"
   ]
  },
  {
   "cell_type": "code",
   "execution_count": 5,
   "metadata": {},
   "outputs": [
    {
     "name": "stdout",
     "output_type": "stream",
     "text": [
      "SISTEMA: \n",
      "[25, 10, 5, 1]\n"
     ]
    },
    {
     "data": {
      "text/plain": [
       "[2, 0, 0, 4]"
      ]
     },
     "execution_count": 5,
     "metadata": {},
     "output_type": "execute_result"
    }
   ],
   "source": [
    "SISTEMA=[25,10,5,1]\n",
    "cambio_moneda(54,SISTEMA)"
   ]
  },
  {
   "cell_type": "code",
   "execution_count": 6,
   "metadata": {},
   "outputs": [],
   "source": [
    "# Dos Numeros Mas Cercano"
   ]
  },
  {
   "cell_type": "code",
   "execution_count": 7,
   "metadata": {},
   "outputs": [],
   "source": [
    "import numpy as np\n",
    "import random\n",
    "import math\n",
    "ejemplo =  np.array([3403, 4537, 2143,9089, 9746, 7259,2145])"
   ]
  },
  {
   "cell_type": "code",
   "execution_count": 8,
   "metadata": {},
   "outputs": [],
   "source": [
    "LISTA_1D = random.sample(range(1, 10000), 1000)\n",
    "LISTA_2D = [(random.randrange(1,10000),random.randrange(1,10000)) for x in range(1000)]"
   ]
  },
  {
   "cell_type": "code",
   "execution_count": 9,
   "metadata": {},
   "outputs": [],
   "source": [
    "#Fuerza Bruta : intenta todas las posibilidades\n",
    "def puntos_cercanos(array): \n",
    "\n",
    "    array = np.array(array)\n",
    "    min= np.inf\n",
    "    punto_a =np.nan\n",
    "    punto_b = np.nan\n",
    "\n",
    "    d = len(array.shape)\n",
    "\n",
    "\n",
    "    if d ==1:\n",
    "        for x,i in enumerate(array):\n",
    "\n",
    "            for j in array[x+1:]:\n",
    "\n",
    "                diff = abs(i -j)\n",
    "\n",
    "                if diff < min:\n",
    "                    punto_a = i\n",
    "                    punto_b = j\n",
    "                    min = diff\n",
    "    \n",
    "    print(f\"Los puntos mas cerca son {punto_a} y {punto_b}, con una diferencia de {min}\")\n",
    "\n",
    "    return punto_a, punto_b ,min\n",
    "\n",
    "    "
   ]
  },
  {
   "cell_type": "code",
   "execution_count": 10,
   "metadata": {},
   "outputs": [
    {
     "name": "stdout",
     "output_type": "stream",
     "text": [
      "Los puntos mas cerca son 1231 y 1230, con una diferencia de 1\n"
     ]
    },
    {
     "data": {
      "text/plain": [
       "(1231, 1230, 1)"
      ]
     },
     "execution_count": 10,
     "metadata": {},
     "output_type": "execute_result"
    }
   ],
   "source": [
    "puntos_cercanos(LISTA_1D)"
   ]
  },
  {
   "cell_type": "code",
   "execution_count": 11,
   "metadata": {},
   "outputs": [
    {
     "name": "stdout",
     "output_type": "stream",
     "text": [
      "Los puntos mas cerca son 2143 y 2145, con una diferencia de 2\n"
     ]
    },
    {
     "data": {
      "text/plain": [
       "(2143, 2145, 2)"
      ]
     },
     "execution_count": 11,
     "metadata": {},
     "output_type": "execute_result"
    }
   ],
   "source": [
    "puntos_cercanos(ejemplo)"
   ]
  },
  {
   "cell_type": "code",
   "execution_count": null,
   "metadata": {},
   "outputs": [],
   "source": [
    "#la complejidad del algoritmo es O(n^2)"
   ]
  },
  {
   "cell_type": "code",
   "execution_count": null,
   "metadata": {},
   "outputs": [],
   "source": [
    "# Dos Numeros Mas Cercano : Fuerza Bruta con mas dimensiones"
   ]
  },
  {
   "cell_type": "code",
   "execution_count": 26,
   "metadata": {},
   "outputs": [],
   "source": [
    "ejemplo =  np.array([[3403,4537], [42143,12089], [9746, 7259],[3445,4456]])"
   ]
  },
  {
   "cell_type": "code",
   "execution_count": 36,
   "metadata": {},
   "outputs": [],
   "source": [
    "def puntos_cercanos(array):\n",
    "    array = np.array(array)\n",
    "    min = np.inf\n",
    "    punto_a = np.nan\n",
    "    punto_b = np.nan\n",
    "\n",
    "    d = len(array.shape)\n",
    "\n",
    "    if d ==1:\n",
    "        for x,i in enumerate(array):\n",
    "\n",
    "            for j in array[x+1:]:\n",
    "\n",
    "                diff = abs(i -j)\n",
    "\n",
    "                if diff < min:\n",
    "                    punto_a = i\n",
    "                    punto_b = j\n",
    "                    min = diff\n",
    "\n",
    "    else:\n",
    "        for x,i in enumerate(array):\n",
    "\n",
    "            for j in array[x+1:]:\n",
    "\n",
    "                diff = np.linalg.norm(i - j)  # distancia euclidiana\n",
    "\n",
    "                if diff < min:\n",
    "                    punto_a = i\n",
    "                    punto_b = j\n",
    "                    min = diff\n",
    "\n",
    "            \n",
    "\n",
    "    print(f\"Los puntos más cercanos son {punto_a} y {punto_b}, con una diferencia de {min}\")\n",
    "\n",
    "    return punto_a, punto_b, min"
   ]
  },
  {
   "cell_type": "code",
   "execution_count": 37,
   "metadata": {},
   "outputs": [
    {
     "name": "stdout",
     "output_type": "stream",
     "text": [
      "Los puntos más cercanos son [3403 4537] y [3445 4456], con una diferencia de 91.2414379544733\n"
     ]
    },
    {
     "data": {
      "text/plain": [
       "(array([3403, 4537]), array([3445, 4456]), 91.2414379544733)"
      ]
     },
     "execution_count": 37,
     "metadata": {},
     "output_type": "execute_result"
    }
   ],
   "source": [
    "puntos_cercanos(ejemplo)"
   ]
  }
 ],
 "metadata": {
  "kernelspec": {
   "display_name": "base",
   "language": "python",
   "name": "python3"
  },
  "language_info": {
   "codemirror_mode": {
    "name": "ipython",
    "version": 3
   },
   "file_extension": ".py",
   "mimetype": "text/x-python",
   "name": "python",
   "nbconvert_exporter": "python",
   "pygments_lexer": "ipython3",
   "version": "3.9.12"
  },
  "orig_nbformat": 4
 },
 "nbformat": 4,
 "nbformat_minor": 2
}
